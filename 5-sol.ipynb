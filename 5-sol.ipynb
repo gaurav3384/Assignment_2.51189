{
 "cells": [
  {
   "cell_type": "code",
   "execution_count": 2,
   "metadata": {},
   "outputs": [
    {
     "data": {
      "text/plain": [
       "[2, 3, 4]"
      ]
     },
     "execution_count": 2,
     "metadata": {},
     "output_type": "execute_result"
    }
   ],
   "source": [
    "def wordlen(wordlist):\n",
    "    reslst=list()\n",
    "    for word in wordlist:\n",
    "        reslst.append(len(word))\n",
    "    return reslst\n",
    "wordlen(['av','abc','abcd'])\n"
   ]
  },
  {
   "cell_type": "code",
   "execution_count": 5,
   "metadata": {},
   "outputs": [
    {
     "name": "stdout",
     "output_type": "stream",
     "text": [
      "True\n",
      "False\n"
     ]
    }
   ],
   "source": [
    "def isvowel(str):\n",
    "    str = str.upper()\n",
    "    if(str=='A' or str == 'E' or  str == 'I' or str == 'O' or str == 'U'):\n",
    "        return True\n",
    "    else:\n",
    "        return False\n",
    "    \n",
    "print(isvowel('A'))\n",
    "print(isvowel('B'))\n",
    "    \n",
    "        "
   ]
  },
  {
   "cell_type": "code",
   "execution_count": null,
   "metadata": {},
   "outputs": [],
   "source": []
  }
 ],
 "metadata": {
  "kernelspec": {
   "display_name": "Python 3",
   "language": "python",
   "name": "python3"
  },
  "language_info": {
   "codemirror_mode": {
    "name": "ipython",
    "version": 3
   },
   "file_extension": ".py",
   "mimetype": "text/x-python",
   "name": "python",
   "nbconvert_exporter": "python",
   "pygments_lexer": "ipython3",
   "version": "3.6.4"
  }
 },
 "nbformat": 4,
 "nbformat_minor": 2
}
